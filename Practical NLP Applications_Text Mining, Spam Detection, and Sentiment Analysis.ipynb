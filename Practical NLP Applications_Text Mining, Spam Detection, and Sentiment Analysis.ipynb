{
  "nbformat": 4,
  "nbformat_minor": 0,
  "metadata": {
    "colab": {
      "provenance": []
    },
    "kernelspec": {
      "name": "python3",
      "display_name": "Python 3"
    },
    "language_info": {
      "name": "python"
    }
  },
  "cells": [
    {
      "cell_type": "markdown",
      "source": [
        "# **Practical NLP Applications: Text Mining, Spam Detection, and Sentiment Analysis**"
      ],
      "metadata": {
        "id": "4hSazgYp64eu"
      }
    },
    {
      "cell_type": "markdown",
      "source": [
        "## **Project 1: Preprocessing Demo**"
      ],
      "metadata": {
        "id": "GrCZu3fN7GBZ"
      }
    },
    {
      "cell_type": "code",
      "source": [
        "import nltk\n",
        "\n",
        "# List of required NLTK resources\n",
        "resources = ['punkt', 'stopwords', 'wordnet']\n",
        "\n",
        "for resource in resources:\n",
        "    try:\n",
        "        nltk.data.find(f'{resource}')\n",
        "    except LookupError:\n",
        "        nltk.download(resource)\n",
        "\n",
        "\n",
        "# Example text\n",
        "text = \"Our customer service received 3 complaints today. However, 25 users gave positive feedback!\"\n",
        "\n",
        "# 1. Sentence & Word Tokenization\n",
        "print(sent_tokenize(text))\n",
        "print(word_tokenize(text))\n",
        "\n",
        "# 2. Remove Stopwords\n",
        "stop_words = set(stopwords.words('english'))\n",
        "filtered = [w for w in word_tokenize(text) if w.lower() not in stop_words]\n",
        "print(\"Without stopwords:\", filtered)\n",
        "\n",
        "# 3. Remove Punctuation\n",
        "no_punct = [w for w in filtered if w not in string.punctuation]\n",
        "print(\"Without punctuation:\", no_punct)\n",
        "\n",
        "# 4. Remove Numbers\n",
        "no_numbers = [w for w in no_punct if not w.isdigit()]\n",
        "print(\"Without numbers:\", no_numbers)\n",
        "\n",
        "# 5. Stemming\n",
        "from nltk.stem import PorterStemmer\n",
        "stemmer = PorterStemmer()\n",
        "stemmed = [stemmer.stem(w) for w in no_numbers]\n",
        "print(\"Stemmed:\", stemmed)\n",
        "\n",
        "# 6. Lemmatization\n",
        "from nltk.stem import WordNetLemmatizer\n",
        "lemmatizer = WordNetLemmatizer()\n",
        "lemmatized = [lemmatizer.lemmatize(w) for w in no_numbers]\n",
        "print(\"Lemmatized:\", lemmatized)"
      ],
      "metadata": {
        "colab": {
          "base_uri": "https://localhost:8080/"
        },
        "id": "ShEaPzn-7DWa",
        "outputId": "62970d05-a597-4ff3-fe15-8e707a41bda9"
      },
      "execution_count": null,
      "outputs": [
        {
          "output_type": "stream",
          "name": "stdout",
          "text": [
            "['Our customer service received 3 complaints today.', 'However, 25 users gave positive feedback!']\n",
            "['Our', 'customer', 'service', 'received', '3', 'complaints', 'today', '.', 'However', ',', '25', 'users', 'gave', 'positive', 'feedback', '!']\n",
            "Without stopwords: ['customer', 'service', 'received', '3', 'complaints', 'today', '.', 'However', ',', '25', 'users', 'gave', 'positive', 'feedback', '!']\n",
            "Without punctuation: ['customer', 'service', 'received', '3', 'complaints', 'today', 'However', '25', 'users', 'gave', 'positive', 'feedback']\n",
            "Without numbers: ['customer', 'service', 'received', 'complaints', 'today', 'However', 'users', 'gave', 'positive', 'feedback']\n",
            "Stemmed: ['custom', 'servic', 'receiv', 'complaint', 'today', 'howev', 'user', 'gave', 'posit', 'feedback']\n",
            "Lemmatized: ['customer', 'service', 'received', 'complaint', 'today', 'However', 'user', 'gave', 'positive', 'feedback']\n"
          ]
        },
        {
          "output_type": "stream",
          "name": "stderr",
          "text": [
            "[nltk_data] Downloading package punkt to /root/nltk_data...\n",
            "[nltk_data]   Package punkt is already up-to-date!\n",
            "[nltk_data] Downloading package stopwords to /root/nltk_data...\n",
            "[nltk_data]   Package stopwords is already up-to-date!\n",
            "[nltk_data] Downloading package wordnet to /root/nltk_data...\n",
            "[nltk_data]   Package wordnet is already up-to-date!\n"
          ]
        }
      ]
    },
    {
      "cell_type": "markdown",
      "source": [
        "\n",
        "\n",
        "---\n",
        "\n"
      ],
      "metadata": {
        "id": "PK0vB0rk84vn"
      }
    },
    {
      "cell_type": "markdown",
      "source": [
        "## **Project 2: Clustering Demo (Unsupervised)**"
      ],
      "metadata": {
        "id": "tmPbIMZF8mUA"
      }
    },
    {
      "cell_type": "code",
      "source": [
        "from sklearn.feature_extraction.text import TfidfVectorizer\n",
        "from sklearn.cluster import KMeans\n",
        "\n",
        "# Documents\n",
        "docs = [\n",
        "    \"The sales team achieved a record profit this quarter.\",\n",
        "    \"Customer satisfaction has increased after the new support system.\",\n",
        "    \"The new AI tool is improving data processing efficiency.\",\n",
        "    \"Marketing campaigns boosted online engagement by 30 percent.\",\n",
        "    \"We received excellent feedback from enterprise clients.\"\n",
        "]\n",
        "\n",
        "# Convert text to TF-IDF vectors\n",
        "vectorizer = TfidfVectorizer(stop_words='english')\n",
        "X = vectorizer.fit_transform(docs)\n",
        "\n",
        "# Cluster with KMeans\n",
        "k = 2\n",
        "model = KMeans(n_clusters=k, random_state=42)\n",
        "model.fit(X)\n",
        "\n",
        "# Show cluster keywords\n",
        "terms = vectorizer.get_feature_names_out()\n",
        "order_centroids = model.cluster_centers_.argsort()[:, ::-1]\n",
        "\n",
        "for i in range(k):\n",
        "    print(\"Cluster\", i)\n",
        "    for idx in order_centroids[i, :10]:\n",
        "        print(\" \", terms[idx])\n",
        "    print()\n",
        "\n",
        "# Predict cluster of new text\n",
        "new_text = [\"chrome browser to open\"]\n",
        "y = vectorizer.transform(new_text)\n",
        "print(\"Prediction:\", model.predict(y))\n"
      ],
      "metadata": {
        "colab": {
          "base_uri": "https://localhost:8080/"
        },
        "id": "-PUrQ3r77EXm",
        "outputId": "58d605ca-d037-41a3-b341-1905a3d52f7f"
      },
      "execution_count": null,
      "outputs": [
        {
          "output_type": "stream",
          "name": "stdout",
          "text": [
            "Cluster 0\n",
            "  new\n",
            "  satisfaction\n",
            "  support\n",
            "  customer\n",
            "  increased\n",
            "  profit\n",
            "  record\n",
            "  quarter\n",
            "  team\n",
            "  sales\n",
            "\n",
            "Cluster 1\n",
            "  received\n",
            "  clients\n",
            "  enterprise\n",
            "  excellent\n",
            "  feedback\n",
            "  sales\n",
            "  record\n",
            "  quarter\n",
            "  profit\n",
            "  team\n",
            "\n",
            "Prediction: [0]\n"
          ]
        }
      ]
    },
    {
      "cell_type": "markdown",
      "source": [
        "\n",
        "\n",
        "---\n",
        "\n"
      ],
      "metadata": {
        "id": "PbC9LNnc9LyF"
      }
    },
    {
      "cell_type": "markdown",
      "source": [
        "## **Project 3: SMS Spam Classification (Supervised)**"
      ],
      "metadata": {
        "id": "mPpVn8ik9Nar"
      }
    },
    {
      "cell_type": "code",
      "source": [
        "import pandas as pd\n",
        "from sklearn.feature_extraction.text import TfidfVectorizer\n",
        "from sklearn.preprocessing import LabelEncoder\n",
        "from sklearn.model_selection import train_test_split\n",
        "from sklearn.neural_network import MLPClassifier\n",
        "from sklearn.metrics import accuracy_score\n",
        "import string, nltk\n",
        "\n",
        "# Load dataset\n",
        "url = \"https://raw.githubusercontent.com/mohitgupta-omg/Kaggle-SMS-Spam-Collection-Dataset-/master/spam.csv\"\n",
        "data = pd.read_csv(url, encoding=\"ISO-8859-1\")[['v1','v2']]\n",
        "print(data.head())\n",
        "\n",
        "# Encode labels (spam=1, ham=0)\n",
        "le = LabelEncoder()\n",
        "y = le.fit_transform(data['v1'])\n",
        "\n",
        "# Preprocessing function: remove punctuation\n",
        "def remove_punctuation(text):\n",
        "    return \"\".join([c for c in text if c not in string.punctuation])\n",
        "\n",
        "data['clean_text'] = data['v2'].apply(remove_punctuation)\n",
        "\n",
        "# TF-IDF Features\n",
        "vectorizer = TfidfVectorizer(stop_words='english')\n",
        "X = vectorizer.fit_transform(data['clean_text'])\n",
        "\n",
        "# Train/Test Split\n",
        "X_train, X_test, y_train, y_test = train_test_split(X, y, test_size=0.2, random_state=42)\n",
        "\n",
        "# Train Neural Network\n",
        "model = MLPClassifier(hidden_layer_sizes=100, max_iter=200, random_state=42)\n",
        "model.fit(X_train, y_train)\n",
        "\n",
        "# Evaluate\n",
        "y_pred = model.predict(X_test)\n",
        "print(\"Accuracy:\", accuracy_score(y_test, y_pred))\n",
        "\n",
        "# Test with new input\n",
        "new_text = [\"Ok lar... Joking wif u oni\"]\n",
        "y_new = vectorizer.transform(new_text)\n",
        "print(\"Prediction:\", model.predict(y_new))  # 0 = ham, 1 = spam\n"
      ],
      "metadata": {
        "colab": {
          "base_uri": "https://localhost:8080/"
        },
        "id": "CS43O65D7EVd",
        "outputId": "cb385a0f-e5aa-47f2-bd48-60d72552b86c"
      },
      "execution_count": null,
      "outputs": [
        {
          "output_type": "stream",
          "name": "stdout",
          "text": [
            "     v1                                                 v2\n",
            "0   ham  Go until jurong point, crazy.. Available only ...\n",
            "1   ham                      Ok lar... Joking wif u oni...\n",
            "2  spam  Free entry in 2 a wkly comp to win FA Cup fina...\n",
            "3   ham  U dun say so early hor... U c already then say...\n",
            "4   ham  Nah I don't think he goes to usf, he lives aro...\n",
            "Accuracy: 0.979372197309417\n",
            "Prediction: [0]\n"
          ]
        }
      ]
    },
    {
      "cell_type": "markdown",
      "source": [
        "\n",
        "\n",
        "---\n",
        "\n"
      ],
      "metadata": {
        "id": "3uee7cdT-2vf"
      }
    },
    {
      "cell_type": "markdown",
      "source": [
        "## **Project 4: Sentiment Analysis**"
      ],
      "metadata": {
        "id": "O6L3bFr8-3zp"
      }
    },
    {
      "cell_type": "markdown",
      "source": [
        "### **A. Using TextBlob**"
      ],
      "metadata": {
        "id": "2_rgy1Zf_F1r"
      }
    },
    {
      "cell_type": "code",
      "source": [
        "from textblob import TextBlob\n",
        "\n",
        "text = \"The product quality exceeded my expectations and delivery was fast!\"\n",
        "blob = TextBlob(text)\n",
        "\n",
        "print(\"Polarity:\", blob.sentiment.polarity)\n",
        "if blob.sentiment.polarity > 0:\n",
        "    print(\"Positive\")\n",
        "elif blob.sentiment.polarity == 0:\n",
        "    print(\"Neutral\")\n",
        "else:\n",
        "    print(\"Negative\")\n"
      ],
      "metadata": {
        "colab": {
          "base_uri": "https://localhost:8080/"
        },
        "id": "rXtuiz5U7ES_",
        "outputId": "58e1fcf6-dcb9-4baf-8e49-e177ce134056"
      },
      "execution_count": null,
      "outputs": [
        {
          "output_type": "stream",
          "name": "stdout",
          "text": [
            "Polarity: 0.25\n",
            "Positive\n"
          ]
        }
      ]
    },
    {
      "cell_type": "markdown",
      "source": [
        "### **B. Using VADER**"
      ],
      "metadata": {
        "id": "K2SlPGle_QZV"
      }
    },
    {
      "cell_type": "code",
      "source": [],
      "metadata": {
        "id": "W5Cfh0EsShh8"
      },
      "execution_count": null,
      "outputs": []
    },
    {
      "cell_type": "code",
      "execution_count": 1,
      "metadata": {
        "colab": {
          "base_uri": "https://localhost:8080/",
          "height": 1000
        },
        "id": "Lf0Ra4EOH1ij",
        "outputId": "f748dcdd-9ba3-4e3a-b160-75eba11de043"
      },
      "outputs": [
        {
          "output_type": "stream",
          "name": "stdout",
          "text": [
            "Collecting vaderSentiment\n",
            "  Downloading vaderSentiment-3.3.2-py2.py3-none-any.whl.metadata (572 bytes)\n",
            "Requirement already satisfied: matplotlib in /usr/local/lib/python3.12/dist-packages (3.10.0)\n",
            "Requirement already satisfied: requests in /usr/local/lib/python3.12/dist-packages (from vaderSentiment) (2.32.4)\n",
            "Requirement already satisfied: contourpy>=1.0.1 in /usr/local/lib/python3.12/dist-packages (from matplotlib) (1.3.3)\n",
            "Requirement already satisfied: cycler>=0.10 in /usr/local/lib/python3.12/dist-packages (from matplotlib) (0.12.1)\n",
            "Requirement already satisfied: fonttools>=4.22.0 in /usr/local/lib/python3.12/dist-packages (from matplotlib) (4.59.1)\n",
            "Requirement already satisfied: kiwisolver>=1.3.1 in /usr/local/lib/python3.12/dist-packages (from matplotlib) (1.4.9)\n",
            "Requirement already satisfied: numpy>=1.23 in /usr/local/lib/python3.12/dist-packages (from matplotlib) (2.0.2)\n",
            "Requirement already satisfied: packaging>=20.0 in /usr/local/lib/python3.12/dist-packages (from matplotlib) (25.0)\n",
            "Requirement already satisfied: pillow>=8 in /usr/local/lib/python3.12/dist-packages (from matplotlib) (11.3.0)\n",
            "Requirement already satisfied: pyparsing>=2.3.1 in /usr/local/lib/python3.12/dist-packages (from matplotlib) (3.2.3)\n",
            "Requirement already satisfied: python-dateutil>=2.7 in /usr/local/lib/python3.12/dist-packages (from matplotlib) (2.9.0.post0)\n",
            "Requirement already satisfied: six>=1.5 in /usr/local/lib/python3.12/dist-packages (from python-dateutil>=2.7->matplotlib) (1.17.0)\n",
            "Requirement already satisfied: charset_normalizer<4,>=2 in /usr/local/lib/python3.12/dist-packages (from requests->vaderSentiment) (3.4.3)\n",
            "Requirement already satisfied: idna<4,>=2.5 in /usr/local/lib/python3.12/dist-packages (from requests->vaderSentiment) (3.10)\n",
            "Requirement already satisfied: urllib3<3,>=1.21.1 in /usr/local/lib/python3.12/dist-packages (from requests->vaderSentiment) (2.5.0)\n",
            "Requirement already satisfied: certifi>=2017.4.17 in /usr/local/lib/python3.12/dist-packages (from requests->vaderSentiment) (2025.8.3)\n",
            "Downloading vaderSentiment-3.3.2-py2.py3-none-any.whl (125 kB)\n",
            "\u001b[2K   \u001b[90m━━━━━━━━━━━━━━━━━━━━━━━━━━━━━━━━━━━━━━━━\u001b[0m \u001b[32m126.0/126.0 kB\u001b[0m \u001b[31m2.6 MB/s\u001b[0m eta \u001b[36m0:00:00\u001b[0m\n",
            "\u001b[?25hInstalling collected packages: vaderSentiment\n",
            "Successfully installed vaderSentiment-3.3.2\n",
            "Sentiment Distribution:\n",
            "Positive: 6\n",
            "Negative: 5\n",
            "Neutral: 1\n"
          ]
        },
        {
          "output_type": "display_data",
          "data": {
            "text/plain": [
              "<Figure size 700x700 with 1 Axes>"
            ],
            "image/png": "[encoded data removed]"
          },
          "metadata": {}
        },
        {
          "output_type": "display_data",
          "data": {
            "text/plain": [
              "<Figure size 1200x600 with 1 Axes>"
            ],
            "image/png": "[encoded data removed]"
          },
          "metadata": {}
        }
      ],
      "source": [
        "# Install necessary libraries\n",
        "!pip install vaderSentiment matplotlib\n",
        "\n",
        "from vaderSentiment.vaderSentiment import SentimentIntensityAnalyzer\n",
        "import matplotlib.pyplot as plt\n",
        "import numpy as np\n",
        "\n",
        "# Sample customer reviews\n",
        "customer_reviews = [\n",
        "    \"I absolutely love this product! It works wonderfully.\",\n",
        "    \"The product quality is terrible. I want a refund.\",\n",
        "    \"This is an okay product, nothing special but works fine.\",\n",
        "    \"I’m very satisfied with my purchase. It exceeded my expectations.\",\n",
        "    \"I regret buying this. It's completely useless.\",\n",
        "    \"The item is okay for the price, but there are better options.\",\n",
        "    \"Service was fine, but I’m not sure I’d recommend it.\",\n",
        "    \"The product does its job, but it’s not particularly impressive.\",\n",
        "    \"Delivery was on time, but the packaging could’ve been better.\",\n",
        "    \"It’s an average product, not bad but nothing exceptional either.\",\n",
        "    \"Worst purchase I’ve ever made. Complete waste of money.\",\n",
        "    \"I am neutral\"\n",
        "]\n",
        "\n",
        "# Function to perform sentiment analysis with VADER\n",
        "def analyze_sentiment_vader(review):\n",
        "    analyzer = SentimentIntensityAnalyzer()\n",
        "    scores = analyzer.polarity_scores(review)\n",
        "    compound_score = scores['compound']\n",
        "\n",
        "    # Classify sentiment based on compound score\n",
        "    if compound_score >= 0.05:\n",
        "        sentiment = \"Positive\"\n",
        "    elif compound_score <= -0.05:\n",
        "        sentiment = \"Negative\"\n",
        "    else:\n",
        "        sentiment = \"Neutral\"\n",
        "\n",
        "    return sentiment, compound_score\n",
        "\n",
        "# Initialize polarities as a list\n",
        "polarities = []\n",
        "\n",
        "# Initialize sentiment counts\n",
        "sentiments = {'Positive': 0, 'Negative': 0, 'Neutral': 0}\n",
        "\n",
        "# Initialize list to store sentiment colors for polarity plot\n",
        "sentiment_colors_for_polarity = []\n",
        "\n",
        "# Analyzing sentiment for each review\n",
        "for review in customer_reviews:\n",
        "    sentiment, polarity = analyze_sentiment_vader(review)\n",
        "    sentiments[sentiment] += 1\n",
        "    polarities.append(polarity)\n",
        "\n",
        "    # Assign color based on sentiment\n",
        "    if sentiment == \"Positive\":\n",
        "        sentiment_colors_for_polarity.append('blue')\n",
        "    elif sentiment == \"Negative\":\n",
        "        sentiment_colors_for_polarity.append('red')\n",
        "    else:\n",
        "        sentiment_colors_for_polarity.append('green')\n",
        "\n",
        "# Print sentiment distribution\n",
        "print(\"Sentiment Distribution:\")\n",
        "print(f\"Positive: {sentiments['Positive']}\")\n",
        "print(f\"Negative: {sentiments['Negative']}\")\n",
        "print(f\"Neutral: {sentiments['Neutral']}\")\n",
        "\n",
        "# Bar chart for sentiment distribution\n",
        "labels = list(sentiments.keys())\n",
        "sizes = list(sentiments.values())\n",
        "colors = ['blue', 'red', 'green']  # Assigning colors for Positive, Negative, and Neutral\n",
        "\n",
        "plt.figure(figsize=(7, 7))\n",
        "bars = plt.bar(labels, sizes, color=colors)  # Bar chart with assigned colors\n",
        "plt.title(\"Sentiment Distribution of Customer Reviews (VADER)\")\n",
        "plt.xlabel('Sentiment')\n",
        "plt.ylabel('Number of Reviews')\n",
        "plt.show()\n",
        "\n",
        "# Visualization: Bar chart for polarity scores of each review with colors\n",
        "plt.figure(figsize=(12, 6))\n",
        "\n",
        "# Adjust polarities to ensure 0 values are slightly visible\n",
        "adjusted_polarities = [p if p != 0 else 0.01 for p in polarities]  # Replace 0 with 0.01\n",
        "\n",
        "plt.bar(range(len(customer_reviews)), adjusted_polarities, color=sentiment_colors_for_polarity)  # Use assigned colors\n",
        "plt.title(\"Polarity of Customer Reviews (VADER)\")\n",
        "plt.xlabel('Review Index')\n",
        "plt.ylabel('Polarity')\n",
        "plt.xticks(range(len(customer_reviews)), [f\"Review {i+1}\" for i in range(len(customer_reviews))], rotation=45, ha='right')\n",
        "plt.tight_layout()\n",
        "plt.show()\n"
      ]
    }
  ]
}